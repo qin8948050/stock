{
 "cells": [
  {
   "cell_type": "markdown",
   "source": [
    "# 一、计算长期经营资产净投资额"
   ],
   "metadata": {
    "collapsed": false
   }
  },
  {
   "cell_type": "code",
   "execution_count": null,
   "outputs": [],
   "source": [
    "def calculate_net_investment_in_long_term_assets(capex, asset_sales, depreciation, impairment_losses=0):\n",
    "    \"\"\"\n",
    "    计算长期经营资产净投资额\n",
    "\n",
    "    :param capex: 资本支出（CapEx），来自现金流量表中的投资活动部分\n",
    "    :param asset_sales: 资产处置收入，来自现金流量表中的资产出售部分\n",
    "    :param depreciation: 折旧，通常来自损益表中的折旧费用\n",
    "    :param impairment_losses: 其他减值或损失，来自损益表中的资产减值部分，默认为0\n",
    "    :return: 长期经营资产净投资额\n",
    "    \"\"\"\n",
    "    # 计算净投资额：资本支出 - 资产处置收入 - 折旧 - 其他减值损失\n",
    "    net_investment = capex - asset_sales - depreciation - impairment_losses\n",
    "    return net_investment\n",
    "\n",
    "# 示例数据（这些数据通常从财务报表中提取）\n",
    "capital_expenditure = 5000  # 资本支出（CapEx），单位：万元，来源于现金流量表中的投资活动\n",
    "asset_sales = 1000  # 资产处置收入，单位：万元，来自现金流量表中的资产出售部分\n",
    "depreciation = 1500  # 折旧，单位：万元，来自损益表中的折旧费用\n",
    "impairment_losses = 200  # 其他减值损失，单位：万元，来自损益表中的资产减值部分\n",
    "\n",
    "# 调用函数，计算长期经营资产净投资额\n",
    "net_investment = calculate_net_investment_in_long_term_assets(capital_expenditure, asset_sales, depreciation, impairment_losses)\n",
    "\n",
    "# 输出结果\n",
    "print(f\"长期经营资产净投资额: {net_investment} 万元\")\n"
   ],
   "metadata": {
    "collapsed": false
   }
  },
  {
   "cell_type": "markdown",
   "source": [
    "# 二、计算扩张性资本支出"
   ],
   "metadata": {
    "collapsed": false
   }
  },
  {
   "cell_type": "code",
   "execution_count": 1,
   "outputs": [
    {
     "name": "stdout",
     "output_type": "stream",
     "text": [
      "扩张性资本支出: 4000 万元\n"
     ]
    }
   ],
   "source": [
    "def calculate_expansion_capex(total_capex, expansion_projects):\n",
    "    \"\"\"\n",
    "    计算扩张性资本支出\n",
    "\n",
    "    :param total_capex: 总资本支出（单位：万元）\n",
    "    :param expansion_projects: 作为扩张性支出的项目，单位：万元（例如：新厂房、设备扩张等）\n",
    "    :return: 扩张性资本支出（单位：万元）\n",
    "    \"\"\"\n",
    "    # 计算扩张性资本支出总额\n",
    "    expansion_capex = sum(expansion_projects)\n",
    "    return expansion_capex\n",
    "\n",
    "# 示例数据\n",
    "total_capex = 5000  # 总资本支出，单位：万元\n",
    "expansion_projects = [3000, 1000]  # 扩张性项目，如新厂房、设备扩张等（单位：万元）\n",
    "\n",
    "# 计算扩张性资本支出\n",
    "expansion_capex = calculate_expansion_capex(total_capex, expansion_projects)\n",
    "\n",
    "# 输出结果\n",
    "print(f\"扩张性资本支出: {expansion_capex} 万元\")\n"
   ],
   "metadata": {
    "collapsed": false,
    "ExecuteTime": {
     "end_time": "2025-01-07T03:03:32.918561900Z",
     "start_time": "2025-01-07T03:03:32.898556100Z"
    }
   }
  },
  {
   "cell_type": "markdown",
   "source": [
    "# 长期经营资产"
   ],
   "metadata": {
    "collapsed": false
   }
  },
  {
   "cell_type": "code",
   "execution_count": null,
   "outputs": [],
   "source": [
    "def calculate_long_term_operating_assets(fixed_assets, intangible_assets, long_term_investments):\n",
    "    \"\"\"\n",
    "    计算长期经营资产的总额\n",
    "\n",
    "    :param fixed_assets: 固定资产包括土地、厂房、设备等。（单位：万元）\n",
    "    :param intangible_assets: 无形资产包括专利、商标、商誉等。（单位：万元）\n",
    "    :param long_term_investments: 长期投资包括公司持有的长期股权投资、债权投资等。（单位：万元）\n",
    "    :return: 长期经营资产总额（单位：万元）\n",
    "    \"\"\"\n",
    "    total_long_term_assets = fixed_assets + intangible_assets + long_term_investments\n",
    "    return total_long_term_assets\n",
    "\n",
    "# 示例数据\n",
    "fixed_assets = 3000  # 固定资产，单位：万元\n",
    "intangible_assets = 1000  # 无形资产，单位：万元\n",
    "long_term_investments = 500  # 长期投资，单位：万元\n",
    "\n",
    "# 计算长期经营资产\n",
    "long_term_assets = calculate_long_term_operating_assets(fixed_assets, intangible_assets, long_term_investments)\n",
    "\n",
    "# 输出结果\n",
    "print(f\"长期经营资产总额: {long_term_assets} 万元\")"
   ],
   "metadata": {
    "collapsed": false
   }
  }
 ],
 "metadata": {
  "kernelspec": {
   "display_name": "Python 3 (ipykernel)",
   "language": "python",
   "name": "python3"
  },
  "language_info": {
   "codemirror_mode": {
    "name": "ipython",
    "version": 3
   },
   "file_extension": ".py",
   "mimetype": "text/x-python",
   "name": "python",
   "nbconvert_exporter": "python",
   "pygments_lexer": "ipython3",
   "version": "3.9.13"
  }
 },
 "nbformat": 4,
 "nbformat_minor": 1
}
