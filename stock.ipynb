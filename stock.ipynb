{
 "cells": [
  {
   "cell_type": "code",
   "execution_count": null,
   "outputs": [],
   "source": [
    "###一、计算长期经营资产净投资额\n",
    "\n",
    "def calculate_net_investment_in_long_term_assets(capex, asset_sales, depreciation, impairment_losses=0):\n",
    "    \"\"\"\n",
    "    计算长期经营资产净投资额\n",
    "\n",
    "    :param capex: 资本支出（CapEx），来自现金流量表中的投资活动部分\n",
    "    :param asset_sales: 资产处置收入，来自现金流量表中的资产出售部分\n",
    "    :param depreciation: 折旧，通常来自损益表中的折旧费用\n",
    "    :param impairment_losses: 其他减值或损失，来自损益表中的资产减值部分，默认为0\n",
    "    :return: 长期经营资产净投资额\n",
    "    \"\"\"\n",
    "    # 计算净投资额：资本支出 - 资产处置收入 - 折旧 - 其他减值损失\n",
    "    net_investment = capex - asset_sales - depreciation - impairment_losses\n",
    "    return net_investment\n",
    "\n",
    "# 示例数据（这些数据通常从财务报表中提取）\n",
    "capital_expenditure = 5000  # 资本支出（CapEx），单位：万元，来源于现金流量表中的投资活动\n",
    "asset_sales = 1000  # 资产处置收入，单位：万元，来自现金流量表中的资产出售部分\n",
    "depreciation = 1500  # 折旧，单位：万元，来自损益表中的折旧费用\n",
    "impairment_losses = 200  # 其他减值损失，单位：万元，来自损益表中的资产减值部分\n",
    "\n",
    "# 调用函数，计算长期经营资产净投资额\n",
    "net_investment = calculate_net_investment_in_long_term_assets(capital_expenditure, asset_sales, depreciation, impairment_losses)\n",
    "\n",
    "# 输出结果\n",
    "print(f\"长期经营资产净投资额: {net_investment} 万元\")\n"
   ],
   "metadata": {
    "collapsed": false
   }
  }
 ],
 "metadata": {
  "kernelspec": {
   "display_name": "Python 3",
   "language": "python",
   "name": "python3"
  },
  "language_info": {
   "codemirror_mode": {
    "name": "ipython",
    "version": 2
   },
   "file_extension": ".py",
   "mimetype": "text/x-python",
   "name": "python",
   "nbconvert_exporter": "python",
   "pygments_lexer": "ipython2",
   "version": "2.7.6"
  }
 },
 "nbformat": 4,
 "nbformat_minor": 0
}
